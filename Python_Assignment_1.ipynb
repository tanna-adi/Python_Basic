{
 "cells": [
  {
   "cell_type": "markdown",
   "id": "ea49a609-21f9-464f-b13f-4fc1ad61e3b5",
   "metadata": {},
   "source": [
    "Q1. Write all the conventions being followed while declaring a variable.\n",
    "Ans.\n",
    "Variables must begin with a letter or an underscore.\n",
    "Variable cannot start with numbers.\n",
    "Variables contain only letters, numbers and underscores.\n",
    "Variable is case sensitive\n",
    "We cannot use python restricted keyboard as variable."
   ]
  },
  {
   "cell_type": "markdown",
   "id": "80154c03-c61e-42f6-8c17-6d01c87d5012",
   "metadata": {},
   "source": [
    "Q2. What will happen if we declare a restricted keyword as a variable?\n",
    "Ans.\n",
    "if we use a resticted keyword as a variable name, it cause confusion and errors in the code, as the keyword would not be recognized in its intended context."
   ]
  },
  {
   "cell_type": "markdown",
   "id": "1e206ae7-2486-4ef6-b14c-63efdb3e1e0c",
   "metadata": {},
   "source": [
    "Q3. Can we actually declare a string as a variable name?\n",
    "Ans.\n",
    "Possible - We can assign string value as variable name. (e.g. a = 'abc' or b = \"this is string variable\")\n",
    "\n",
    "Not possible - but, we can't declare a string as a variable name. (e.g. 'abc' = 2 or \"hello world\" = \"Not possible\")"
   ]
  },
  {
   "cell_type": "code",
   "execution_count": 1,
   "id": "240f1376-8e6a-44a8-a464-3caf50cd1eed",
   "metadata": {},
   "outputs": [
    {
     "name": "stdout",
     "output_type": "stream",
     "text": [
      "abcd\n"
     ]
    }
   ],
   "source": [
    "abc = 'abcd'\n",
    "print(abc)"
   ]
  },
  {
   "cell_type": "code",
   "execution_count": 2,
   "id": "dd681a7a-627b-4fa1-bcae-ee6fdc18f35b",
   "metadata": {},
   "outputs": [
    {
     "name": "stdout",
     "output_type": "stream",
     "text": [
      "this is string variable\n"
     ]
    }
   ],
   "source": [
    "b = \"this is string variable\"\n",
    "print(b)"
   ]
  },
  {
   "cell_type": "code",
   "execution_count": 3,
   "id": "eb0c7465-9f8d-4b7b-a435-1379b0f25885",
   "metadata": {},
   "outputs": [
    {
     "ename": "SyntaxError",
     "evalue": "cannot assign to literal here. Maybe you meant '==' instead of '='? (3294841544.py, line 1)",
     "output_type": "error",
     "traceback": [
      "\u001b[0;36m  Cell \u001b[0;32mIn[3], line 1\u001b[0;36m\u001b[0m\n\u001b[0;31m    'xyz' = 2\u001b[0m\n\u001b[0m    ^\u001b[0m\n\u001b[0;31mSyntaxError\u001b[0m\u001b[0;31m:\u001b[0m cannot assign to literal here. Maybe you meant '==' instead of '='?\n"
     ]
    }
   ],
   "source": [
    "'xyz' = 2"
   ]
  },
  {
   "cell_type": "code",
   "execution_count": 4,
   "id": "c393064d-8a51-45d6-8988-a76dd0ab28fc",
   "metadata": {},
   "outputs": [
    {
     "ename": "SyntaxError",
     "evalue": "cannot assign to literal here. Maybe you meant '==' instead of '='? (1337794941.py, line 1)",
     "output_type": "error",
     "traceback": [
      "\u001b[0;36m  Cell \u001b[0;32mIn[4], line 1\u001b[0;36m\u001b[0m\n\u001b[0;31m    \"hello world\" = \"Not possible\"\u001b[0m\n\u001b[0m    ^\u001b[0m\n\u001b[0;31mSyntaxError\u001b[0m\u001b[0;31m:\u001b[0m cannot assign to literal here. Maybe you meant '==' instead of '='?\n"
     ]
    }
   ],
   "source": [
    "\"hello world\" = \"Not possible\""
   ]
  },
  {
   "cell_type": "markdown",
   "id": "94c80503-12d4-4322-a720-9ce3f606d59d",
   "metadata": {},
   "source": [
    "Q4. Is it possible for us to declare “_” as a variable? If so, then write an example of it.\n",
    "Ans.\n",
    "yes we can."
   ]
  },
  {
   "cell_type": "code",
   "execution_count": 5,
   "id": "4f98bbbc-ef9b-437a-a707-9199e129bf82",
   "metadata": {},
   "outputs": [
    {
     "name": "stdout",
     "output_type": "stream",
     "text": [
      "123\n"
     ]
    }
   ],
   "source": [
    "_ = 123\n",
    "print(_)"
   ]
  },
  {
   "cell_type": "markdown",
   "id": "cc10b4a8-e647-403e-8b3a-2d57fbf54cc2",
   "metadata": {},
   "source": [
    "Q5. Using an example, explain how the variables in python are dynamic in nature."
   ]
  },
  {
   "cell_type": "code",
   "execution_count": 6,
   "id": "bd63b710-ae82-43ea-b3ae-b53d7924a3c2",
   "metadata": {},
   "outputs": [
    {
     "name": "stdout",
     "output_type": "stream",
     "text": [
      "abc\n",
      "<class 'str'>\n"
     ]
    }
   ],
   "source": [
    "a = \"abc\"\n",
    "print(a)\n",
    "print(type(a))"
   ]
  },
  {
   "cell_type": "code",
   "execution_count": 7,
   "id": "2f7f422d-cdea-48be-8f34-902a824b7f2c",
   "metadata": {},
   "outputs": [
    {
     "name": "stdout",
     "output_type": "stream",
     "text": [
      "12\n",
      "<class 'int'>\n"
     ]
    }
   ],
   "source": [
    "a = 12\n",
    "print(a)\n",
    "print(type(a))"
   ]
  },
  {
   "cell_type": "code",
   "execution_count": 8,
   "id": "238fe98d-e267-4d55-83ec-52df45d69ccc",
   "metadata": {},
   "outputs": [
    {
     "name": "stdout",
     "output_type": "stream",
     "text": [
      "12.34\n",
      "<class 'float'>\n"
     ]
    }
   ],
   "source": [
    "a = 12.34\n",
    "print(a)\n",
    "print(type(a))"
   ]
  },
  {
   "cell_type": "code",
   "execution_count": 9,
   "id": "a2d67162-4554-4a2a-8e56-f24a49fd9c40",
   "metadata": {},
   "outputs": [
    {
     "name": "stdout",
     "output_type": "stream",
     "text": [
      "(12+1j)\n",
      "<class 'complex'>\n"
     ]
    }
   ],
   "source": [
    "a = 12 + 1j\n",
    "print(a)\n",
    "print(type(a))"
   ]
  }
 ],
 "metadata": {
  "kernelspec": {
   "display_name": "Python 3 (ipykernel)",
   "language": "python",
   "name": "python3"
  },
  "language_info": {
   "codemirror_mode": {
    "name": "ipython",
    "version": 3
   },
   "file_extension": ".py",
   "mimetype": "text/x-python",
   "name": "python",
   "nbconvert_exporter": "python",
   "pygments_lexer": "ipython3",
   "version": "3.10.8"
  }
 },
 "nbformat": 4,
 "nbformat_minor": 5
}
