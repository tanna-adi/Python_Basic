{
 "cells": [
  {
   "cell_type": "markdown",
   "id": "e675fcd7-0411-462d-a69d-815d0d7f40a6",
   "metadata": {
    "tags": []
   },
   "source": [
    "# Assignment"
   ]
  },
  {
   "cell_type": "markdown",
   "id": "e723ba98-57bf-4cdd-a06d-819117c4b187",
   "metadata": {
    "tags": []
   },
   "source": [
    "## TOPIC: Python Basics Variable"
   ]
  },
  {
   "cell_type": "markdown",
   "id": "acd60e6b-cbc4-4d71-9678-fc3cf5ed8e21",
   "metadata": {
    "tags": []
   },
   "source": [
    "#### Que 1:\n",
    "#### Declare two variables, `x` and `y`, and assign them integer values. Swap the values of these variables without using any temporary variable"
   ]
  },
  {
   "cell_type": "code",
   "execution_count": 1,
   "id": "66ac204b-65f8-413c-a489-b34ab2061144",
   "metadata": {},
   "outputs": [
    {
     "name": "stdout",
     "output_type": "stream",
     "text": [
      "Value of x: 5 and Value of y: 7\n",
      "\n",
      "After swaping that variable's values\n",
      "Value of x: 7 and Value of y: 5\n"
     ]
    }
   ],
   "source": [
    "#Declaring two variables\n",
    "x = 5\n",
    "y = 7\n",
    "\n",
    "#printing assigned values\n",
    "print (f\"Value of x: {x} and Value of y: {y}\\n\")\n",
    "\n",
    "#swaping this values wihout any temp varible\n",
    "x = x + y\n",
    "y = x - y\n",
    "x = x - y\n",
    "\n",
    "#printing that varible's value after swaping\n",
    "print (f\"After swaping that variable's values\\nValue of x: {x} and Value of y: {y}\")"
   ]
  },
  {
   "cell_type": "markdown",
   "id": "34bbef91-8939-49b8-8bfa-478825e86f12",
   "metadata": {
    "tags": []
   },
   "source": [
    "#### Que 2: \n",
    "#### Create a program that calculates the area of a rectangle. Take the length and width as inputs from the user and store them in variables. Calculate and display the area"
   ]
  },
  {
   "cell_type": "code",
   "execution_count": 2,
   "id": "80c981d6-3162-4e3d-b1f4-3169f1c07a05",
   "metadata": {},
   "outputs": [
    {
     "name": "stdin",
     "output_type": "stream",
     "text": [
      "Enter Lenght of Rectangle(in cm):  10\n",
      "Enter width of Rectangle(in cm):  20\n"
     ]
    },
    {
     "name": "stdout",
     "output_type": "stream",
     "text": [
      "\n",
      "An area of 10 cm length and 20 cm width Rectangle is 200 cm²\n"
     ]
    }
   ],
   "source": [
    "#taking lenght and width from user converting that into int(type casting) and than store it in variable\n",
    "a = int(input(\"Enter Lenght of Rectangle(in cm): \"))\n",
    "b = int(input(\"Enter width of Rectangle(in cm): \"))\n",
    "\n",
    "#calculating area based on lenght and width entered by user\n",
    "area = a*b\n",
    "\n",
    "#printing area of that rectangle\n",
    "print(f\"\\nAn area of {a} cm length and {b} cm width Rectangle is {area} cm\\u00b2\")"
   ]
  },
  {
   "cell_type": "markdown",
   "id": "95412cc5-6e14-4ccf-8e23-51da8c708f9a",
   "metadata": {
    "tags": []
   },
   "source": [
    "#### Que 3:\n",
    "#### Write a Python program that converts temperatures from Celsius to Fahrenheit. Take the temperature in Celsius as input, store it in a variable, convert it to Fahrenheit, and display the result."
   ]
  },
  {
   "cell_type": "code",
   "execution_count": 3,
   "id": "acecb9c8-e1e0-4081-935c-86d15400ad7b",
   "metadata": {},
   "outputs": [
    {
     "name": "stdin",
     "output_type": "stream",
     "text": [
      "Enter Temperature value in Celsius: 40\n"
     ]
    },
    {
     "name": "stdout",
     "output_type": "stream",
     "text": [
      "A Fahrenheit temparature value of 40°C is 104.0°F\n"
     ]
    }
   ],
   "source": [
    "#taking Temperature input from user in Celsius \n",
    "Temp_Cel = int(input(\"Enter Temperature value in Celsius:\"))\n",
    "\n",
    "#calculating temperature in fahrenheit based on Celsius value entered by user\n",
    "Temp_Fah = (Temp_Cel*1.8) + 32\n",
    "\n",
    "#printing temperature in fahrenheit\n",
    "print(f\"A Fahrenheit temparature value of {Temp_Cel}\\u00b0C is {Temp_Fah}\\u00b0F\")"
   ]
  },
  {
   "cell_type": "markdown",
   "id": "3524a0d1-59e7-4d4e-9425-ae2d5ef7f119",
   "metadata": {},
   "source": [
    "## TOPIC: String Based Questions"
   ]
  },
  {
   "cell_type": "markdown",
   "id": "70dadc77-9f9c-4aeb-9b5e-0acf1a3dbe97",
   "metadata": {},
   "source": [
    "#### Que 1:\n",
    "#### Write a Python program that takes a string as input and prints the length of the string."
   ]
  },
  {
   "cell_type": "code",
   "execution_count": 4,
   "id": "c4c352c5-1f2a-4e83-9f71-c3f134a4e20b",
   "metadata": {},
   "outputs": [
    {
     "name": "stdin",
     "output_type": "stream",
     "text": [
      "Enter a String: Program to find lenght of string\n"
     ]
    },
    {
     "name": "stdout",
     "output_type": "stream",
     "text": [
      "Program to find lenght of string\n",
      "\n",
      "lenght of entered string is 32\n"
     ]
    }
   ],
   "source": [
    "#taking string input from user \n",
    "inp_str = input(\"Enter a String:\")\n",
    "\n",
    "#printing lenght of string\n",
    "print(inp_str)\n",
    "print(f\"\\nlenght of entered string is {len(inp_str)}\")"
   ]
  },
  {
   "cell_type": "markdown",
   "id": "f57ec276-07fa-4bc6-a864-d9a45de62761",
   "metadata": {},
   "source": [
    "#### Que 2:\n",
    "#### Create a program that takes a sentence from the user and counts the number of vowels (a, e, i, o, u) in the string."
   ]
  },
  {
   "cell_type": "code",
   "execution_count": 5,
   "id": "b929359b-834e-482b-bcaa-03e6e2fece91",
   "metadata": {},
   "outputs": [
    {
     "name": "stdin",
     "output_type": "stream",
     "text": [
      "Enter a String: Program to COUNT Vowels in string\n"
     ]
    },
    {
     "name": "stdout",
     "output_type": "stream",
     "text": [
      "Program to COUNT Vowels in string\n",
      "\n",
      "Number of vowels (a, e, i, o, u) in the entered string is 9\n"
     ]
    }
   ],
   "source": [
    "#taking string input from user \n",
    "inp_str = input(\"Enter a String:\")\n",
    "\n",
    "#mention all Vowels as list and taken y=0 (initial) as variable to count number of Vowels\n",
    "Vow = ['a','e','i','o','u']\n",
    "y = 0\n",
    "\n",
    "#created for loop to check each character in string, if character is vowel than increase counter by one\n",
    "for x in inp_str.lower():\n",
    "    if x in Vow:\n",
    "        y += 1\n",
    "\n",
    "#print counter to show numbers of vowels available in string \n",
    "print(inp_str)\n",
    "print(f\"\\nNumber of vowels (a, e, i, o, u) in the entered string is {y}\")"
   ]
  },
  {
   "cell_type": "markdown",
   "id": "15fe8308-8875-41cd-8084-32d4c58b7357",
   "metadata": {},
   "source": [
    "#### Que 3:\n",
    "#### Given a string, reverse the order of characters using string slicing and print the reversed string."
   ]
  },
  {
   "cell_type": "code",
   "execution_count": 6,
   "id": "ec15a79a-d375-4954-94f5-c51a89455ce6",
   "metadata": {},
   "outputs": [
    {
     "name": "stdin",
     "output_type": "stream",
     "text": [
      "Enter a String: Program to reverse string using slicing\n"
     ]
    },
    {
     "name": "stdout",
     "output_type": "stream",
     "text": [
      "Program to reverse string using slicing\n",
      "\n",
      "Reverse of entered string is 'gnicils gnisu gnirts esrever ot margorP'\n"
     ]
    }
   ],
   "source": [
    "#taking string input from user \n",
    "inp_str = input(\"Enter a String:\")\n",
    "\n",
    "#reverse the order of characters using string slicing and saving it in new variable\n",
    "reverse_str = inp_str[::-1]\n",
    "\n",
    "#printing reverse string\n",
    "print(inp_str)\n",
    "print(f\"\\nReverse of entered string is '{reverse_str}'\")"
   ]
  },
  {
   "cell_type": "markdown",
   "id": "09cd14ef-17dc-476a-9700-97e255334b1e",
   "metadata": {},
   "source": [
    "#### Que 4:\n",
    "#### Write a program that takes a string as input and checks if it is a palindrome (reads the same forwards and backwards)."
   ]
  },
  {
   "cell_type": "code",
   "execution_count": 7,
   "id": "3506eeed-d402-4f9c-ab63-d0371b42b474",
   "metadata": {},
   "outputs": [
    {
     "name": "stdin",
     "output_type": "stream",
     "text": [
      "Enter a String: 123      Mom     454  mOm32        1\n"
     ]
    },
    {
     "name": "stdout",
     "output_type": "stream",
     "text": [
      "123      Mom     454  mOm32        1\n",
      "\n",
      "Entered string is Palindrome\n"
     ]
    }
   ],
   "source": [
    "#taking string input from user \n",
    "inp_str = input(\"Enter a String:\")\n",
    "print(inp_str)\n",
    "\n",
    "#Removing space in between string and converting sting into lowercase\n",
    "inp_str = inp_str.replace(\" \",\"\").lower()\n",
    "\n",
    "#Checking entered string palindrome or not and print it.\n",
    "if inp_str == inp_str[::-1]:\n",
    "    print(\"\\nEntered string is Palindrome\")\n",
    "else:\n",
    "    print(\"\\nEntered string isn't Palindrome\")\n",
    "    \n",
    "#Note: This code will work if the user enters a string with whitespace or in upper or lower case"
   ]
  },
  {
   "cell_type": "markdown",
   "id": "fb28334d-65a6-4170-9932-aecab41b6555",
   "metadata": {},
   "source": [
    "#### Que 5:\n",
    "#### Create a program that takes a string as input and removes all the spaces from it. Print the modified string without spaces."
   ]
  },
  {
   "cell_type": "code",
   "execution_count": 8,
   "id": "63234937-54be-4ed5-ba32-f704c397037e",
   "metadata": {},
   "outputs": [
    {
     "name": "stdin",
     "output_type": "stream",
     "text": [
      "Enter a String: Removing Whitespace From String\n"
     ]
    },
    {
     "name": "stdout",
     "output_type": "stream",
     "text": [
      "Removing Whitespace From String\n",
      "\n",
      "Modified string (without spaces) of entered string is 'RemovingWhitespaceFromString'\n"
     ]
    }
   ],
   "source": [
    "#taking string input from user \n",
    "inp_str = input(\"Enter a String:\")\n",
    "\n",
    "#Removing all space from string\n",
    "str_wo_space = inp_str.replace(\" \",\"\")\n",
    "\n",
    "#printing modified string without spaces.\n",
    "print(inp_str)\n",
    "print(f\"\\nModified string (without spaces) of entered string is '{str_wo_space}'\")"
   ]
  }
 ],
 "metadata": {
  "kernelspec": {
   "display_name": "Python 3 (ipykernel)",
   "language": "python",
   "name": "python3"
  },
  "language_info": {
   "codemirror_mode": {
    "name": "ipython",
    "version": 3
   },
   "file_extension": ".py",
   "mimetype": "text/x-python",
   "name": "python",
   "nbconvert_exporter": "python",
   "pygments_lexer": "ipython3",
   "version": "3.10.8"
  }
 },
 "nbformat": 4,
 "nbformat_minor": 5
}
